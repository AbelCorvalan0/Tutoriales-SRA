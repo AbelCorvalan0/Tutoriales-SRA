{
 "cells": [
  {
   "cell_type": "markdown",
   "metadata": {},
   "source": [
    "# Laboratorio n° 4 - Circuito 1"
   ]
  },
  {
   "cell_type": "markdown",
   "metadata": {},
   "source": [
    "Se iguala la expresión de la realimentación $T(s)$ con FT de segundo orden.\n",
    "\n",
    "$$ T(s)= \\frac{k N_{FF}}{D-kN_{FF}}= \\frac{ \\frac{k}{(RC)^{2}} }{ s^{2}+ \\frac{(3-k)}{RC}s + (\\frac{1}{RC})^{2} } $$"
   ]
  },
  {
   "cell_type": "markdown",
   "metadata": {},
   "source": [
    "Para el filtro pasabajo se tiene lo siguiente:\n",
    "\n",
    "$$ T(s)= \\frac{3.284.10^7}{s^{2}+ 3184 \\, s+ 6.632.10^{7}}= \\frac{k\\omega^{2}_{p}}{s^{2}+ \\frac{\\omega_{p}}{Q_{p}}s+\\omega^{2}_{p}} $$\n",
    "\n",
    "Se tiene:\n",
    "\n",
    "$$ \\frac{\\omega_{p}}{Q_{p}}= \\frac{(3-k)}{RC}= 3184 $$\n",
    "\n",
    "$$ \\omega_{p}= \\frac{1}{RC}= \\sqrt{66.32.10^{6}}= 8143 $$\n",
    "\n",
    "$$ k\\omega^{2}_p= \\frac{k}{(RC)^{2}}= 32840000 $$"
   ]
  },
  {
   "cell_type": "code",
   "execution_count": 138,
   "metadata": {},
   "outputs": [
    {
     "name": "stdout",
     "output_type": "stream",
     "text": [
      "C=  1e-07\n",
      "R= 1228.04863072578\n",
      "k=  2.60898931597691\n",
      "r1=  6215.08166692108\n"
     ]
    }
   ],
   "source": [
    "import sympy as sym\n",
    "\n",
    "R, C, k, r1, r2= sym.symbols('R, C, k, r_{1}, r_{2}')\n",
    "\n",
    "# Filtro pasabajo\n",
    "equ1= sym.Eq((3-k)/(R*C), 3184)\n",
    "equ2= sym.Eq(1/(R*C), 8143)\n",
    "equ3= sym.Eq(k/(R*C)**2, 32840000)\n",
    "equ_k= sym.Eq(k, 1+(r2/r1))\n",
    "\n",
    "# Despejo equ2\n",
    "\n",
    "# Establezco C= 100nF\n",
    "valor_C= 100e-9\n",
    "\n",
    "s_R= sym.solve(equ2, C)[0]\n",
    "Rc= s_R.subs(R, valor_C)\n",
    "print('C= ', valor_C)\n",
    "print('R=', Rc)\n",
    "\n",
    "s_k= sym.solve(equ1, k)\n",
    "#print('k= ', s_k[0])\n",
    "valor_k= s_k[0].subs({C: valor_C, R: Rc})\n",
    "print('k= ', valor_k)\n",
    "\n",
    "# Despejo r1 de equ_k\n",
    "equ_r1= sym.solve(equ_k, r1)\n",
    "\n",
    "# Establezco r2= 10Kohm\n",
    "valor_r1= equ_r1[0].subs({r2: 10e3, k: valor_k})\n",
    "print('r1= ', valor_r1)"
   ]
  },
  {
   "cell_type": "markdown",
   "metadata": {},
   "source": [
    "Ganancia debe ser K=0.49 (ver LABN4_SRA), se debe compensar ya que obtuvimos K= 2.61 (obtenido) se debe agregar otra ganancia de 0.19 entonces K_teórico= 0.49= 2.61*0.19."
   ]
  },
  {
   "cell_type": "code",
   "execution_count": 147,
   "metadata": {},
   "outputs": [
    {
     "name": "stdout",
     "output_type": "stream",
     "text": [
      "Rb=  1516.10942064911\n"
     ]
    }
   ],
   "source": [
    "Ra, Rb= sym.symbols('R_{A}, R_{B}')\n",
    "\n",
    "equ4= sym.Eq(Ra, R/0.19)\n",
    "\n",
    "# Valor Ra\n",
    "valor_Ra= equ4.subs(R, Rc)\n",
    "\n",
    "# Valor Rb\n",
    "equ5= sym.Eq(R, (Ra*Rb)/(Ra+Rb))\n",
    "s_Rb= sym.solve(equ5, Rb)\n",
    "\n",
    "valor_Rb= s_Rb[0].subs({Ra: valor_Ra.rhs, R: Rc})\n",
    "print('Rb= ', valor_Rb)"
   ]
  }
 ],
 "metadata": {
  "kernelspec": {
   "display_name": "Python 3",
   "language": "python",
   "name": "python3"
  },
  "language_info": {
   "codemirror_mode": {
    "name": "ipython",
    "version": 3
   },
   "file_extension": ".py",
   "mimetype": "text/x-python",
   "name": "python",
   "nbconvert_exporter": "python",
   "pygments_lexer": "ipython3",
   "version": "3.10.12"
  }
 },
 "nbformat": 4,
 "nbformat_minor": 2
}
