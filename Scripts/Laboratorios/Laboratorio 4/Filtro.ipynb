{
 "cells": [
  {
   "cell_type": "markdown",
   "metadata": {},
   "source": [
    "# Laboratorio n° 4 - Síntesis de Redes Activas\n",
    "\n",
    "Se desea realizar un filtro con los siguientes requerimientos."
   ]
  },
  {
   "cell_type": "markdown",
   "metadata": {},
   "source": [
    "CARGAR IMAGEN"
   ]
  },
  {
   "cell_type": "code",
   "execution_count": 69,
   "metadata": {},
   "outputs": [],
   "source": [
    "import matplotlib.pyplot as plt\n",
    "import control as ct\n",
    "import numpy as np\n",
    "import scipy as sc"
   ]
  },
  {
   "cell_type": "code",
   "execution_count": 70,
   "metadata": {},
   "outputs": [],
   "source": [
    "# Definimos los valores de diseño del filtro\n",
    "# Banda de paso en Hz (1 Dimension array).\n",
    "fp= [800, 1250]\n",
    "# Banda de rechazo en Hz.\n",
    "fs= [200, 5000]\n",
    "# Banda de paso en rad/seg.\n",
    "# Banda de rechazo en rad/seg.\n",
    "\n",
    "def calculateBand(freqList):\n",
    "    W= np.empty(len(freqList), dtype= float)\n",
    "    for i in range(len(freqList)):\n",
    "        W[i]= 2*np.pi*freqList[i]\n",
    "    return W\n",
    "\n",
    "Wp= calculateBand(fp)\n",
    "Ws= calculateBand(fs)\n",
    "\n",
    "Ap= 0.25\n",
    "As= 30"
   ]
  },
  {
   "cell_type": "code",
   "execution_count": null,
   "metadata": {},
   "outputs": [],
   "source": [
    "sc.cheb1ord(Wp, Ws, Ap, As)"
   ]
  },
  {
   "cell_type": "code",
   "execution_count": 71,
   "metadata": {},
   "outputs": [],
   "source": [
    "# Defino función para graficar\n",
    "def plottingFunction(xAxis, yAxis, titleString, fileName):\n",
    "    plt.figure(figsize=(8, 6))\n",
    "    plt.plot(xAxis, yAxis, color='blue', linewidth=4)\n",
    "    plt.title(titleString, fontsize=14)\n",
    "    plt.xlabel('Time [seg]', fontsize=14)\n",
    "    plt.ylabel('Output', fontsize=14)\n",
    "    plt.tick_params(axis='both', which='major', labelsize=14)\n",
    "    plt.grid(visible=True)\n",
    "    plt.savefig(fileName, dpi=600)\n",
    "    plt.show()"
   ]
  },
  {
   "cell_type": "code",
   "execution_count": 72,
   "metadata": {},
   "outputs": [],
   "source": [
    "# # Respuesta al escalón\n",
    "\n",
    "# # Definimos un vector de tiempo\n",
    "# # donde se tiene np.linspace(start, end, step)\n",
    "# t_vector= np.linspace(0, 5, 100)\n",
    "\n",
    "# # Se obtiene la respuesta al escalón\n",
    "# timeReturned, systemOutput= ct.step_response(FT, t_vector)\n",
    "\n",
    "# # Grafico la respuesta al escalón\n",
    "# plottingFunction(timeReturned, systemOutput,'Step response', 'stepResponse.png')"
   ]
  },
  {
   "cell_type": "code",
   "execution_count": 73,
   "metadata": {},
   "outputs": [],
   "source": [
    "# t_vector2= np.linspace(0, 10, 200)\n",
    "# inputVector2= np.sin(2*t_vector2)+np.ones(t_vector2.shape)\n",
    "\n",
    "# timeReturned2, systemOutput2= ct.forced_response(FT, t_vector2, inputVector2)\n",
    "# plottingFunction(t_vector2, systemOutput2, 'Sinusoidal output', 'Response to sinusoidal input.png')"
   ]
  }
 ],
 "metadata": {
  "kernelspec": {
   "display_name": "Python 3",
   "language": "python",
   "name": "python3"
  },
  "language_info": {
   "codemirror_mode": {
    "name": "ipython",
    "version": 3
   },
   "file_extension": ".py",
   "mimetype": "text/x-python",
   "name": "python",
   "nbconvert_exporter": "python",
   "pygments_lexer": "ipython3",
   "version": "3.10.12"
  }
 },
 "nbformat": 4,
 "nbformat_minor": 2
}
